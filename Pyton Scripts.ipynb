{
 "cells": [
  {
   "cell_type": "code",
   "execution_count": 1,
   "metadata": {},
   "outputs": [
    {
     "name": "stdout",
     "output_type": "stream",
     "text": [
      "Su qaynayıb\n"
     ]
    }
   ],
   "source": [
    "# Suyun qaynayıb qaynamadığını yoxlayır\n",
    "temperatur = input(\"Suyun temperaturunu daxil edin : \")\n",
    "if temperatur.isnumeric():\n",
    "    if int(temperatur) >= 100:\n",
    "        print(\"Su qaynayıb\")\n",
    "    elif int(temperatur) <= 0:\n",
    "        print(\"Su donub\")\n",
    "    else:\n",
    "        print(\"Su nə qaynayıb,nə də donub\")\n",
    "else:\n",
    "    print(\"Rəqəm yazın\")\n"
   ]
  },
  {
   "cell_type": "code",
   "execution_count": 16,
   "metadata": {},
   "outputs": [
    {
     "name": "stdout",
     "output_type": "stream",
     "text": [
      "[2, 4, 6, 8, 10]\n"
     ]
    }
   ],
   "source": [
    "# 0 dan 10 a qədər cüt ədədləri çap edir.\n",
    "rəqəmlər = []\n",
    "b = 1\n",
    "while b < 11:\n",
    "    if b%2==0:\n",
    "        rəqəmlər.append(b)\n",
    "        b += 2\n",
    "    else:\n",
    "        b+=1  \n",
    "print(rəqəmlər)\n"
   ]
  },
  {
   "cell_type": "code",
   "execution_count": 7,
   "metadata": {},
   "outputs": [
    {
     "name": "stdout",
     "output_type": "stream",
     "text": [
      "[12, 15]\n"
     ]
    }
   ],
   "source": [
    "# İstənilən iki ədəd arasındakı 3-ə bölünən ədədləri çap edir\n",
    "a=int(input(\"Başlanğıc ədəd : \"))\n",
    "b=int(input(\"Son ədəd :\"))\n",
    "c=[]\n",
    "while a<b+1:\n",
    "    if a%3==0:\n",
    "        c.append(a)\n",
    "        a+=3\n",
    "    else:\n",
    "        a+=1\n",
    "print(c)\n",
    "        "
   ]
  },
  {
   "cell_type": "code",
   "execution_count": 1,
   "metadata": {},
   "outputs": [
    {
     "name": "stdout",
     "output_type": "stream",
     "text": [
      "199\n"
     ]
    }
   ],
   "source": [
    "# 3 rəqəmli ədədlər arasında rəqəmləri cəmi rəqəmləri hasilindən çox olan ədədlərin sayını tapır.\n",
    "cəm = 0\n",
    "hasil = 1  \n",
    "say = 0\n",
    "a = 100\n",
    "\n",
    "while a < 1000:\n",
    "    if a > 0:\n",
    "        d = a\n",
    "        cəm = 0\n",
    "        while d > 0:\n",
    "            cəm += d % 10\n",
    "            d //= 10\n",
    "    \n",
    "    if a > 0:\n",
    "        k = a\n",
    "        hasil = 1\n",
    "        while k > 0:\n",
    "            hasil *= k % 10\n",
    "            k //= 10\n",
    "    \n",
    "    if cəm > hasil:\n",
    "        say += 1\n",
    "    \n",
    "    \n",
    "    a += 1\n",
    "\n",
    "print(say)\n"
   ]
  },
  {
   "cell_type": "code",
   "execution_count": 60,
   "metadata": {},
   "outputs": [
    {
     "name": "stdout",
     "output_type": "stream",
     "text": [
      "Çoxlu ədəd\n"
     ]
    }
   ],
   "source": [
    "# 3 rəqəmli ədədlər arasında rəqəmləri cəmi rəqəmləri hasilindən çox olan ədədlərin sayını tapır və k ilə müqayisə edir.\n",
    "k = int(input(\"k: \"))\n",
    "say = 0\n",
    "\n",
    "for i in range(100, 1000):\n",
    "    cəm = 0\n",
    "    hasil = 1\n",
    "\n",
    "    for x in str(i):\n",
    "        cəm += int(x)\n",
    "        hasil *= int(x)\n",
    "\n",
    "    if cəm > hasil:\n",
    "        say += 1\n",
    "\n",
    "    if say > k:\n",
    "        print(\"Çoxlu ədəd\")\n",
    "        break\n",
    "\n",
    "if say <= k:\n",
    "    print(\"Ədədlərin sayı:\", say)\n"
   ]
  },
  {
   "cell_type": "code",
   "execution_count": 7,
   "metadata": {},
   "outputs": [
    {
     "name": "stdout",
     "output_type": "stream",
     "text": [
      "42+8+7+1+0+124+9997+555+3+67+99 = 10903\n"
     ]
    }
   ],
   "source": [
    "# Listdəki ədədləri toplayır  və aralarına + qoyyur sonra isə = qoyur və nəticəni çap edir.\n",
    "x= [42, 8 , 7 , 1, 0, 124, 9997,555 ,3 ,67 ,99]\n",
    "cəm=0\n",
    "y=\"\"\n",
    "\n",
    "for i in x:\n",
    "    a= str(i) + \"+\"\n",
    "    cəm+=i\n",
    "    y+=a\n",
    "    \n",
    "cəm = \"= \" + str(cəm)\n",
    "y= y[ :-1]  # Sonuncu elementi silir.\n",
    "print(y,cəm )"
   ]
  },
  {
   "cell_type": "code",
   "execution_count": 1,
   "metadata": {},
   "outputs": [
    {
     "name": "stdout",
     "output_type": "stream",
     "text": [
      "[0, 2, 4, 6, 8, 10, 12, 14, 16, 18, 20]\n"
     ]
    }
   ],
   "source": [
    "# 0- dan 20-ə qədər(20 daxil) cüt ədədləri çap edir.\n",
    "a=[]\n",
    "\n",
    "for i in range(0,21):\n",
    "    if i%2==0:\n",
    "        a.append(i)\n",
    "\n",
    "print(a)"
   ]
  },
  {
   "cell_type": "code",
   "execution_count": 5,
   "metadata": {},
   "outputs": [
    {
     "name": "stdout",
     "output_type": "stream",
     "text": [
      "[3, 10, 17, 24, 31]\n"
     ]
    }
   ],
   "source": [
    "# Mart ayının 3-ü cümə günüdürsə,digər cümə günlərini çap edir.\n",
    "günlər=[3]  #ilk günü daxil et\n",
    "say=0\n",
    "k=0    # Aradakı 7 günü tapmaq üçün istifadə edilir.\n",
    "for i in range(4,32):\n",
    "    k+=1\n",
    "    if k==7:\n",
    "        say+=1\n",
    "        günlər.append(i)\n",
    "        k=0\n",
    "print(günlər)"
   ]
  },
  {
   "cell_type": "code",
   "execution_count": 8,
   "metadata": {},
   "outputs": [
    {
     "name": "stdout",
     "output_type": "stream",
     "text": [
      "Yanvar Fevral\n"
     ]
    }
   ],
   "source": [
    "# Verilmiş  \"aylar\"  adlı siyahının ilk iki elementini çap edir.\n",
    "aylar=[\"Yanvar\",\"Fevral\",\"Mart\",\"Aprel\",\"May\",\"İyun\",\"İyul\",\"Avqust\",\"Sentyabr\",\"Oktyabr\",\"Noyabr\",\"Dekabr\"]\n",
    "print(aylar[0],aylar[1])"
   ]
  },
  {
   "cell_type": "code",
   "execution_count": 15,
   "metadata": {},
   "outputs": [
    {
     "name": "stdout",
     "output_type": "stream",
     "text": [
      "İllər bunlardır -  [2000, 1996, 1992, 1988, 1984, 1980, 1976, 1972, 1968, 1964, 1960, 1956, 1952, 1948, 1944, 1940, 1936, 1932, 1928, 1924, 1920, 1916, 1912, 1908, 1904]\n"
     ]
    }
   ],
   "source": [
    "# İstifadəçidən alınmış 2 il arasındakı fevralın 29 gündən ibarət olduğu illəri seçir və böyükdən kiçiyə düzür.\n",
    "il1 =int(input())\n",
    "il2 =int(input())\n",
    "illər=[ ]\n",
    "if il1>il2:    # Hansının böyük olduğunu yoxlayır ki,əvvəl böyük il  daxil edilsə,sonra kiçik il daxil edilsə, kod işləsin.\n",
    "    for i in range(il2,il1+1):\n",
    "        if i%100==0:\n",
    "            if i%4==0 and i%400==0:\n",
    "                illər.append(i)\n",
    "            \n",
    "        else :\n",
    "            if i%4==0:\n",
    "                illər.append(i)    \n",
    "                \n",
    "\n",
    "    uzunluq=len(illər)\n",
    "    d=[ ]           # Sadəcə əlavə etmək üçün bir list \n",
    "\n",
    "    for i in range(1,uzunluq+1):\n",
    "        d.append(illər[-i])\n",
    "        \n",
    "    print(\"İllər bunlardır - \" , d)\n",
    "\n",
    "\n",
    "\n",
    "else:\n",
    "    for i in range(il1,il2+1):\n",
    "        if i%100==0:\n",
    "            if i%4==0 and i%400==0:\n",
    "                illər.append(i)\n",
    "            \n",
    "        else :\n",
    "            if i%4==0:\n",
    "                illər.append(i)   \n",
    "\n",
    "    uzunluq=len(illər)\n",
    "    d=[ ]           # Sadəcə əlavə etmək üçün bir list \n",
    "\n",
    "    for i in range(1,uzunluq+1):\n",
    "        d.append(illər[-i])\n",
    "    print(\"İllər bunlardır - \" , d)"
   ]
  },
  {
   "cell_type": "code",
   "execution_count": 1,
   "metadata": {},
   "outputs": [
    {
     "name": "stdout",
     "output_type": "stream",
     "text": [
      "29\n",
      "31\n",
      "37\n",
      "41\n",
      "43\n",
      "47\n",
      "53\n"
     ]
    }
   ],
   "source": [
    "# İki ədəd arasındakı sadə ədədlərin tapılması.\n",
    "a=int(input())\n",
    "b=int(input()) \n",
    "d=min(a,b)\n",
    "f=max(a,b)\n",
    "n=0\n",
    "for i in range(d, f+1):\n",
    "    if i==1:\n",
    "        continue\n",
    "    if i==2 or i==3 or i ==5 or i==7:\n",
    "        print(i)\n",
    "        continue\n",
    "    elif  i%2==0 :\n",
    "        continue\n",
    "    else:\n",
    "        n=0\n",
    "        c=int(i**(1/2))\n",
    "        for t in range (3,c+1):\n",
    "            if t!=c:\n",
    "                if i%t!=0:\n",
    "                    n+=1\n",
    "                    continue\n",
    "                else:\n",
    "                    break\n",
    "        \n",
    "            if t==c:\n",
    "                if i%t!=0:\n",
    "                    n+=1\n",
    "                if c-2==n:\n",
    "                    print(i)"
   ]
  },
  {
   "cell_type": "code",
   "execution_count": 1,
   "metadata": {},
   "outputs": [
    {
     "name": "stdout",
     "output_type": "stream",
     "text": [
      "56\n",
      "1575\n"
     ]
    }
   ],
   "source": [
    "# Listdəki cüt elementlərin cəmini və tək elementlərin hasilini tapır.              27.11.2023 23:04\n",
    "a=[2,12,5,3,22,5,7,12,8,3]\n",
    "cəm=0\n",
    "hasil=1\n",
    "for i in a:\n",
    "    if i%2==0:\n",
    "        cəm+=i\n",
    "    else:\n",
    "        hasil*=i\n",
    "print(cəm)\n",
    "print(hasil)"
   ]
  },
  {
   "cell_type": "code",
   "execution_count": 1,
   "metadata": {},
   "outputs": [
    {
     "name": "stdout",
     "output_type": "stream",
     "text": [
      "5\n"
     ]
    }
   ],
   "source": [
    "# ƏBOB - un tapılması.                      27.11.2023  23:35\n",
    "a = int(input(\"1-ci ədəd: \"))\n",
    "b = int(input(\"2-ci ədəd: \"))\n",
    "while a!=0 and b!=0:\n",
    "    if a>b:\n",
    "        a = a-b\n",
    "    else:\n",
    "        b = b-a\n",
    "print(a+b)"
   ]
  },
  {
   "cell_type": "code",
   "execution_count": 2,
   "metadata": {},
   "outputs": [
    {
     "name": "stdout",
     "output_type": "stream",
     "text": [
      "60\n"
     ]
    }
   ],
   "source": [
    "# ƏKOB - un tapılması.                       27.11.2023  23:48\n",
    "a = int(input(\"1-ci ədəd: \"))\n",
    "b = int(input(\"2-ci ədəd: \"))\n",
    "d=a*b\n",
    "while a!=0 and b!=0:\n",
    "    if a>b:\n",
    "        a = a-b\n",
    "    else:\n",
    "        b = b-a\n",
    "\n",
    "#e = ƏKOB\n",
    "e=(d)/(a+b)  \n",
    "print(int(e))\n"
   ]
  },
  {
   "cell_type": "code",
   "execution_count": 1,
   "metadata": {},
   "outputs": [
    {
     "name": "stdout",
     "output_type": "stream",
     "text": [
      "10.4\n"
     ]
    }
   ],
   "source": [
    "# Daxil edilmiş iki həqiqi ədadin cəmini hesablayır.          28.11.2023    23:12\n",
    "a=float(input())\n",
    "b=float(input())\n",
    "print(a+b)"
   ]
  },
  {
   "cell_type": "code",
   "execution_count": 2,
   "metadata": {},
   "outputs": [
    {
     "name": "stdout",
     "output_type": "stream",
     "text": [
      "201.96\n"
     ]
    }
   ],
   "source": [
    "# Daxil edilmiş üç  həqiqi ədadin hasilini  hesablayır.       28.11.2023    23:15\n",
    "a=float(input())\n",
    "b=float(input())\n",
    "c=float(input())\n",
    "print(a*b*c)"
   ]
  },
  {
   "cell_type": "code",
   "execution_count": 5,
   "metadata": {},
   "outputs": [
    {
     "name": "stdout",
     "output_type": "stream",
     "text": [
      "29.0\n"
     ]
    }
   ],
   "source": [
    "# y= 3*x**2 + 5x + 7  də x ın qiymətində tapılması            28.11.2023     23:21\n",
    "x=float(input())\n",
    "print((3*x**2) + 5*x + 7)"
   ]
  },
  {
   "cell_type": "code",
   "execution_count": 6,
   "metadata": {},
   "outputs": [
    {
     "name": "stdout",
     "output_type": "stream",
     "text": [
      "SalamDünya\n",
      "Salam Dünya\n"
     ]
    }
   ],
   "source": [
    "# Verilmiş dəyişənləri əvvəl  SalamDünya şəklində sonra Salam Dünya şəklində çap edir.         28.11.2023     23:25\n",
    "a=\"Salam\"\n",
    "b=\"Dünya\"\n",
    "print(a+b)\n",
    "print(a,b)"
   ]
  },
  {
   "cell_type": "code",
   "execution_count": 6,
   "metadata": {},
   "outputs": [
    {
     "name": "stdout",
     "output_type": "stream",
     "text": [
      "Perimetr =  18.0\n",
      "Sahə =  20.0\n"
     ]
    }
   ],
   "source": [
    "# Düzbucaqlının tərəflərinə görə perimetr və sahə tapılır.                   28.11.2023     23:45\n",
    "a=float(input())\n",
    "b=float(input())\n",
    "\n",
    "p= (a+b)*2\n",
    "s= a*b\n",
    "\n",
    "print(\"Perimetr = \" , p )\n",
    "print(\"Sahə = \" , s)"
   ]
  },
  {
   "cell_type": "code",
   "execution_count": 8,
   "metadata": {},
   "outputs": [
    {
     "name": "stdout",
     "output_type": "stream",
     "text": [
      "321\n"
     ]
    }
   ],
   "source": [
    "# Verilmiş ədədin tərsini tapır.                    28.11.2023     23:56\n",
    "a = int(input()) \n",
    "ls = \"\"\n",
    "ls+=str(a)\n",
    "\n",
    "c = ls[::-1]\n",
    "\n",
    "print(c)\n"
   ]
  },
  {
   "cell_type": "code",
   "execution_count": 9,
   "metadata": {},
   "outputs": [
    {
     "name": "stdout",
     "output_type": "stream",
     "text": [
      "123\n"
     ]
    }
   ],
   "source": [
    "# Verilmiş ədədin tərsini tapır.                    28.11.2023     23:56\n",
    "a = int(input()) \n",
    "c=str(a)[::-1]\n",
    "\n",
    "print(c)"
   ]
  },
  {
   "cell_type": "code",
   "execution_count": 42,
   "metadata": {},
   "outputs": [
    {
     "name": "stdout",
     "output_type": "stream",
     "text": [
      "qaqa salam\n"
     ]
    }
   ],
   "source": [
    "# Verilmiş söz birləşməsinin tərsini yazır.                    29.11.2023     00:09\n",
    "a=input()\n",
    "\n",
    "ls= a.split(\" \")\n",
    "\n",
    "ls[0],ls[1] = ls[1],ls[0]\n",
    "\n",
    "b=\" \".join(ls)\n",
    "\n",
    "print(b)"
   ]
  },
  {
   "cell_type": "code",
   "execution_count": 43,
   "metadata": {},
   "outputs": [
    {
     "name": "stdout",
     "output_type": "stream",
     "text": [
      "SALAM QAQA\n"
     ]
    }
   ],
   "source": [
    "# Daxil edilmiş mətnin bütün hərflərini böyük hərflə yazır.              29.11.2023     00:12\n",
    "\n",
    "a=input()\n",
    "\n",
    "a=a.upper()\n",
    "print(a)"
   ]
  },
  {
   "cell_type": "code",
   "execution_count": 2,
   "metadata": {},
   "outputs": [
    {
     "name": "stdout",
     "output_type": "stream",
     "text": [
      "NO\n",
      "YES\n"
     ]
    }
   ],
   "source": [
    "# Verilmiş natural ədəddə eyni rəqəmin olub-olmadığını yoxlayır.            29.11.2023      21:42\n",
    "a = int(input(\"Natural ədəd daxil edin :\"))\n",
    "ls = str(a)\n",
    "\n",
    "for i in ls:\n",
    "    \n",
    "    if ls.count(i) >= 2:\n",
    "        \n",
    "        print(\"YES\")\n",
    "        \n",
    "        break\n",
    "else:\n",
    "    \n",
    "    print(\"NO\")"
   ]
  },
  {
   "cell_type": "code",
   "execution_count": 3,
   "metadata": {},
   "outputs": [
    {
     "name": "stdout",
     "output_type": "stream",
     "text": [
      "887554422110\n"
     ]
    }
   ],
   "source": [
    "# Daxil edilən ədəddəki rəqəmlərdən istifadə etməklə yazıla bilən ən böyük ədədi çap edir.        29.11.2023   22.09\n",
    "a = int(input())\n",
    "b = str(a)\n",
    "ls = []\n",
    "\n",
    "for i in b:\n",
    "    ls.append(int(i))\n",
    "\n",
    "f = []\n",
    "\n",
    "while len(ls) > 0:  \n",
    "    l = max(ls)\n",
    "    f.append(str(l)) \n",
    "    ls.remove(l)\n",
    "\n",
    "d = \"\".join(f)\n",
    "\n",
    "print(d)\n"
   ]
  },
  {
   "cell_type": "code",
   "execution_count": 1,
   "metadata": {},
   "outputs": [
    {
     "name": "stdout",
     "output_type": "stream",
     "text": [
      "ALMA -ın  ümumi dəyəri = 10 AZN\n",
      "SOĞAN -ın  ümumi dəyəri = 18 AZN\n",
      "Malların ümumi dəyəri =  28 AZN\n"
     ]
    }
   ],
   "source": [
    "# Verilmiş məhsulların dəyərlərini hesablayır.                 30.11.2023    00:14\n",
    "Məhsul1 = input(\"1-ci məhsulun adı  - \")\n",
    "Qiymət1 = int(input(\"1-ci məhsulun qiyməti  - \"))\n",
    "Say1 = int(input(\"1-ci məhsulun sayı  - \"))\n",
    "Məhsul2 = input(\"2-ci məhsulun adı  - \")\n",
    "Qiymət2 = int(input(\"1-ci məhsulun qiyməti  - \"))\n",
    "Say2 = int(input(\"1-ci məhsulun sayı  - \"))\n",
    "\n",
    "\n",
    "print(Məhsul1, \"-ın  ümumi dəyəri =\" ,Qiymət1*Say1, \"AZN\")\n",
    "print(Məhsul2, \"-ın  ümumi dəyəri =\" ,Qiymət2*Say2, \"AZN\")\n",
    "print(\"Malların ümumi dəyəri = \" , Qiymət1*Say1 + Qiymət2*Say2, \"AZN\")\n",
    "\n",
    "\n",
    "\n"
   ]
  },
  {
   "cell_type": "code",
   "execution_count": 6,
   "metadata": {},
   "outputs": [
    {
     "name": "stdout",
     "output_type": "stream",
     "text": [
      "5 ! = 120\n",
      "5 !- ın rəqəm sayı = 3\n"
     ]
    }
   ],
   "source": [
    "# n! - ın özünü və rəqəm sayını hesablayır.                  30.11.2023   00:39\n",
    "a = int(input())\n",
    "f = 1\n",
    "\n",
    "for i in range(1, a + 1):\n",
    "    f *= i\n",
    "\n",
    "\n",
    "s=len(str(f))\n",
    "print(a,\"! =\",f)\n",
    "print(a,\"!- ın rəqəm sayı =\",s)\n"
   ]
  },
  {
   "cell_type": "code",
   "execution_count": 11,
   "metadata": {},
   "outputs": [
    {
     "name": "stdout",
     "output_type": "stream",
     "text": [
      "Perimetr =  12.0\n",
      "Sahə =  6.0\n"
     ]
    }
   ],
   "source": [
    "# Üçbucağın 3 tərəfi verilir. Perimetr və Sahə tapılır.                  01.12.2023     18:32 \n",
    "from math import *\n",
    "a=float(input())\n",
    "b=float(input())\n",
    "c=float(input())\n",
    "if a+b>c and a-b<c and b+c>a and b-c<a and c+a>b and c-a<b:\n",
    "    print(\"Perimetr = \", (a+b+c))\n",
    "\n",
    "    t=(a+b+c)/2\n",
    "\n",
    "    sahə = sqrt(t * (t-a) * (t-b) * (t-c))\n",
    "\n",
    "    print(\"Sahə = \", sahə)\n",
    "    \n",
    "else:\n",
    "    print(\"Tərəfləri düzgün daxil edin!\")"
   ]
  },
  {
   "cell_type": "code",
   "execution_count": 6,
   "metadata": {},
   "outputs": [
    {
     "name": "stdout",
     "output_type": "stream",
     "text": [
      "Ədədi orta =  5.333333333333333\n"
     ]
    }
   ],
   "source": [
    "# Daxil edilmiş istənilən  ədədin ədədi ortasını tapır.                01.12.2023    18:45\n",
    "\n",
    "n=0\n",
    "s=0\n",
    "while  True:\n",
    "    \n",
    "    a=input(\"Bitirmək istəyirsənsə son yaz\")\n",
    "    if a==(\"son\"):\n",
    "        break\n",
    "    else:\n",
    "        n+=1\n",
    "        s+=int(a)\n",
    "print(\"Ədədi orta = \",s/n)"
   ]
  },
  {
   "cell_type": "code",
   "execution_count": 5,
   "metadata": {},
   "outputs": [
    {
     "name": "stdout",
     "output_type": "stream",
     "text": [
      "Ədəd =  1\n",
      "Ədəd =  2\n",
      "Ədəd =  3\n",
      "Ədəd =  4\n",
      "Ədəd =  10\n",
      "Ədəd =  11\n",
      "Ədəd =  12\n",
      "Ədəd =  13\n",
      "Ədəd =  14\n",
      "Ədəd =  20\n",
      "Ədəd =  21\n",
      "Ədəd =  22\n"
     ]
    }
   ],
   "source": [
    "# Daxil edilmiş ədəddən kiçik ədədlər içərisində rəqəmlərinin kvadratları cəmi  20 -dən kiçik olan ədədləri çap edir.        01.12.2023  20.32 \n",
    "a=int(input(\"Ədədi daxil et :\"))\n",
    "for i in range(1,a):\n",
    "    \n",
    "    d=i\n",
    "    i=str(i)\n",
    "    i=i[::-1]\n",
    "    s=0\n",
    "    for t in i: \n",
    "        s+=int(t)**2\n",
    "        \n",
    "        \n",
    "    if s<20:\n",
    "        print(\"Ədəd = \",d)\n",
    "        \n",
    "    "
   ]
  },
  {
   "cell_type": "code",
   "execution_count": 5,
   "metadata": {},
   "outputs": [
    {
     "name": "stdout",
     "output_type": "stream",
     "text": [
      "Düz daxil edin!\n"
     ]
    }
   ],
   "source": [
    "# Ədədin yüzlük mərtəbəsini çap edir.              01.12.2023   20.50\n",
    "try:\n",
    "    a=int(input())\n",
    "    print(str(a)[-3])\n",
    "    \n",
    "except:\n",
    "    print(\"Düz daxil edin!\")"
   ]
  },
  {
   "cell_type": "code",
   "execution_count": 4,
   "metadata": {},
   "outputs": [
    {
     "name": "stdout",
     "output_type": "stream",
     "text": [
      "['Salam', 'necəsiniz?']\n"
     ]
    }
   ],
   "source": [
    "# Daxil edilmiş cümlədəki sözləri siyahıya salır.          03.12.2023    19:22\n",
    "a=input()\n",
    "ls=a.split(\" \")\n",
    "print(ls)\n"
   ]
  },
  {
   "cell_type": "code",
   "execution_count": 6,
   "metadata": {},
   "outputs": [
    {
     "name": "stdout",
     "output_type": "stream",
     "text": [
      "8\n"
     ]
    }
   ],
   "source": [
    "# Son və ya son daxil edilənə qədər ədədlər daxil edilir sonra ən böyük ədədlə ən kiçik ədədin fərqini tapır.    03.12.2023   19:43\n",
    "\n",
    "try: \n",
    "    ls=[]\n",
    "    while True:\n",
    "        a=input()\n",
    "        if a!= \"son\" and a!= \"Son\":\n",
    "             ls.append(int(a))\n",
    "        \n",
    "        else:\n",
    "              break\n",
    "          \n",
    "    n=max(ls)-min(ls)\n",
    "    print(n)\n",
    "    \n",
    "except:\n",
    "    \n",
    "    print(\"Düz daxil edin!\")"
   ]
  },
  {
   "cell_type": "code",
   "execution_count": 14,
   "metadata": {},
   "outputs": [
    {
     "name": "stdout",
     "output_type": "stream",
     "text": [
      "4 5 8 7 2 5 4 8 4 8 \n"
     ]
    }
   ],
   "source": [
    "# Daxil edilmiş ədədin rəqəmləri arasına boşluq qoyaraq yazır.           03.12.2023   21:03\n",
    "a=int(input())\n",
    "b=\"\"\n",
    "for i in str(a):\n",
    "    b+=i+\" \" \n",
    "    \n",
    "print(b)"
   ]
  },
  {
   "cell_type": "code",
   "execution_count": 15,
   "metadata": {},
   "outputs": [
    {
     "name": "stdout",
     "output_type": "stream",
     "text": [
      "X = Maximum = 7\n",
      "Y = Minimum = 4\n"
     ]
    }
   ],
   "source": [
    "# Daxil edilmiş iki ədəd arasında ən böyüyə X-ı ən kiçiyə isə Y-i mənimsədir.     03.12.2023    21:11\n",
    "a=int(input())\n",
    "b=int(input())\n",
    "x=max(a,b)\n",
    "y=min(a,b)\n",
    "print(\"X =\",\"Maximum =\", x)\n",
    "print(\"Y =\",\"Minimum =\",y)"
   ]
  },
  {
   "cell_type": "code",
   "execution_count": 18,
   "metadata": {},
   "outputs": [
    {
     "name": "stdout",
     "output_type": "stream",
     "text": [
      "a = 2209\n"
     ]
    }
   ],
   "source": [
    "#Daxil edilmiş ədəd 50-dən kiçikdisə,kvadrata yüksəldir.Əks halda 2-ə vurur.   03.12.2023   21:14\n",
    "a=int(input())\n",
    "if a<50:\n",
    "    a=a**2\n",
    "    \n",
    "else:\n",
    "    a*=2\n",
    "print(\"a =\",a)"
   ]
  },
  {
   "cell_type": "code",
   "execution_count": 19,
   "metadata": {},
   "outputs": [
    {
     "name": "stdout",
     "output_type": "stream",
     "text": [
      "x = 16\n"
     ]
    }
   ],
   "source": [
    "# Verilmiş funksiyanı hesablayır.    03.12.2023    21:18      \n",
    "x=int(input())\n",
    "if x>10:\n",
    "    x+=7\n",
    "elif x<=2:\n",
    "    x+=16\n",
    "else:\n",
    "    x*=2\n",
    "    \n",
    "print(\"x =\",x)"
   ]
  },
  {
   "cell_type": "code",
   "execution_count": 1,
   "metadata": {},
   "outputs": [
    {
     "name": "stdout",
     "output_type": "stream",
     "text": [
      "[1, -2, 'a', 8, '4', '56']\n"
     ]
    }
   ],
   "source": [
    "# Listə istədiyin ədədi çap edir.    03.12.2023   21:48\n",
    "a=[1,-2,\"a\",8,\"4\"]\n",
    "n=input()\n",
    "a.append(n)\n",
    "print(a)"
   ]
  },
  {
   "cell_type": "code",
   "execution_count": 4,
   "metadata": {},
   "outputs": [
    {
     "name": "stdout",
     "output_type": "stream",
     "text": [
      "İmtahandan uğurla keçdiniz!\n"
     ]
    }
   ],
   "source": [
    "# Daxil edilən bala əsasən keçib,keçmədinizi tapır.      03.12.2023    21:52\n",
    "bal=int(input())\n",
    "if bal>100:\n",
    "    print(\"Balınızı düzgün daxil edin!\")\n",
    "\n",
    "elif bal>=50:\n",
    "    print(\"İmtahandan uğurla keçdiniz!\")\n",
    "    \n",
    "else:\n",
    "    print(\"İmtahandan keçmədiniz!\")"
   ]
  },
  {
   "cell_type": "code",
   "execution_count": 7,
   "metadata": {},
   "outputs": [
    {
     "name": "stdout",
     "output_type": "stream",
     "text": [
      "Balınız = 100.0\n",
      "İmtahandan uğurla keçdiniz!\n"
     ]
    }
   ],
   "source": [
    "# 3 bala görə imtahandan keçib,keçmədiyini tapır.     03.12.2023  22:05\n",
    "dərs1=int(input())\n",
    "dərs2=int(input()) \n",
    "dərs3=int(input()) \n",
    "ədədiorta=(dərs1+dərs2+dərs3)/3\n",
    "if 100>=dərs1>=0 and 100>=dərs2>=0 and 100>=dərs3>=0:\n",
    "    if ədədiorta>100:\n",
    "        print(\"Balınızı düzgün daxil edin!\")\n",
    "    \n",
    "    elif ədədiorta>=50:\n",
    "        print(\"Balınız =\",ədədiorta)\n",
    "        print(\"İmtahandan uğurla keçdiniz!\")\n",
    "    \n",
    "    else:\n",
    "        print(\"Balınız =\",ədədiorta)\n",
    "        print(\"İmtahandan kəsildiniz!\")\n",
    "        \n",
    "else:\n",
    "    print(\"Balınızı düzgün daxil edin!\")"
   ]
  },
  {
   "cell_type": "code",
   "execution_count": 19,
   "metadata": {},
   "outputs": [
    {
     "name": "stdout",
     "output_type": "stream",
     "text": [
      "Daxil edilən ədədin rəqəmləri sayı ən azı 3 dənə olmalıdır!\n"
     ]
    }
   ],
   "source": [
    "# Daxil edilən ədədin yüzlük mərtəbəsindəki ədədi çap edir.         03.12.2023  22:13\n",
    "try:\n",
    "    a=int(input())\n",
    "    print(str(a)[-3])\n",
    "    \n",
    "except:\n",
    "    print(\"Daxil edilən ədədin rəqəmləri sayı ən azı 3 dənə olmalıdır!\")\n",
    "    "
   ]
  },
  {
   "cell_type": "code",
   "execution_count": 1,
   "metadata": {},
   "outputs": [
    {
     "name": "stdout",
     "output_type": "stream",
     "text": [
      "Uzunluq = 62.83185307179586\n",
      "Sahə =  314.1592653589793\n"
     ]
    }
   ],
   "source": [
    "# Çevrənin sahəsini və uzunluğunu tapır.      06.12.2023   21:27\n",
    "from math import pi\n",
    "r=float(input())\n",
    "uzunluq = 2*pi*r\n",
    "sahə = pi*r**2\n",
    "print(\"Uzunluq =\", uzunluq)\n",
    "print(\"Sahə = \",sahə)"
   ]
  },
  {
   "cell_type": "code",
   "execution_count": 2,
   "metadata": {},
   "outputs": [
    {
     "name": "stdout",
     "output_type": "stream",
     "text": [
      "54782\n"
     ]
    }
   ],
   "source": [
    "# Daxil edilmiş ədədin ilk rəqəmini silir və sona yazır.      06.12.2023  21:42  \n",
    "a=int(input())\n",
    "ls=[]\n",
    "ls+=str(a)\n",
    "d=ls[0]\n",
    "ls.append(d)\n",
    "ls.remove(ls[0])\n",
    "\n",
    "b=\"\".join(ls)\n",
    "print(b)\n"
   ]
  },
  {
   "cell_type": "markdown",
   "metadata": {},
   "source": [
    "ls.pop(a)     listin a-cı indexsdəki elementini silir. "
   ]
  },
  {
   "cell_type": "code",
   "execution_count": 6,
   "metadata": {},
   "outputs": [
    {
     "name": "stdout",
     "output_type": "stream",
     "text": [
      "457\n"
     ]
    }
   ],
   "source": [
    "# Daxil edilmiş ədədin yüzlük və onluq ədədlərinin yerini dəyişir.    06.12.2023    21:48\n",
    "a=int(input())\n",
    "ls=list(str(a))\n",
    "if len(str(a))>=3:\n",
    "    \n",
    "    ls[-2],ls[-3]=ls[-3],ls[-2]\n",
    "    b= \"\".join(ls)\n",
    "    print(b)\n",
    "    \n",
    "else:\n",
    "    print(\"Daxil edilən ədəd ən azı 3 rəqəmli olmalıdır!\")\n"
   ]
  },
  {
   "cell_type": "code",
   "execution_count": 4,
   "metadata": {},
   "outputs": [
    {
     "name": "stdout",
     "output_type": "stream",
     "text": [
      "Rəqəmlərin sayı ən azı 3 dənə olmalıdır!\n"
     ]
    }
   ],
   "source": [
    "# Daxil edilmiş ədədin yüzlük və onluq ədədlərinin yerini dəyişir.    06.12.2023    21:52\n",
    "try:\n",
    "    a=int(input())\n",
    "    ls=list(str(a))\n",
    "    ls[-2],ls[-3]=ls[-3],ls[-2]\n",
    "    b= \"\".join(ls)\n",
    "    print(b)\n",
    "    \n",
    "except:\n",
    "    print(\"Rəqəmlərin sayı ən azı 3 dənə olmalıdır!\")"
   ]
  },
  {
   "cell_type": "code",
   "execution_count": 6,
   "metadata": {},
   "outputs": [
    {
     "name": "stdout",
     "output_type": "stream",
     "text": [
      "k\n",
      "i\n",
      "t\n",
      "a\n",
      "b\n"
     ]
    }
   ],
   "source": [
    "# Daxil eidlmiş sözün hərflərini şaquli çap edir!        06.12.2023  21:54\n",
    "a=input()\n",
    "for i in a:\n",
    "    print(i)"
   ]
  },
  {
   "cell_type": "code",
   "execution_count": 7,
   "metadata": {},
   "outputs": [
    {
     "name": "stdout",
     "output_type": "stream",
     "text": [
      "Cəm = 165\n"
     ]
    }
   ],
   "source": [
    "# İki ədəd arasındakı ədədlərin cəmini tapır.            06.12.2023  21:58\n",
    "a1=int(input())\n",
    "an=int(input())\n",
    "s=0\n",
    "for i in range(a1,an+1):\n",
    "    s+=i\n",
    "print(\"Cəm =\",s)"
   ]
  },
  {
   "cell_type": "code",
   "execution_count": 8,
   "metadata": {},
   "outputs": [
    {
     "name": "stdout",
     "output_type": "stream",
     "text": [
      "Hasil = 120\n"
     ]
    }
   ],
   "source": [
    "# İki ədəd arasındaki ədədlərin hasilini tapır.          06.12.2023   22:02\n",
    "a1=int(input())\n",
    "an=int(input())\n",
    "h=1\n",
    "for i in range(a1,an+1):\n",
    "    h*=i\n",
    "print(\"Hasil =\",h)"
   ]
  },
  {
   "cell_type": "code",
   "execution_count": 9,
   "metadata": {},
   "outputs": [
    {
     "name": "stdout",
     "output_type": "stream",
     "text": [
      "Cəm = 15\n"
     ]
    }
   ],
   "source": [
    "# İlk n həddin cəmini tapır.      06.12.2023   22:04\n",
    "n=int(input())\n",
    "s=0\n",
    "for i in range(1,n+1):\n",
    "    s+=i\n",
    "print(\"Cəm =\",s)\n",
    "    "
   ]
  },
  {
   "cell_type": "code",
   "execution_count": 13,
   "metadata": {},
   "outputs": [
    {
     "name": "stdout",
     "output_type": "stream",
     "text": [
      "Hasil = 120\n"
     ]
    }
   ],
   "source": [
    "# İlk n həddin hasilini tapır.      06.12.2023   22:04\n",
    "n=int(input())\n",
    "h=1\n",
    "for i in range(1,n+1):\n",
    "    h*=i\n",
    "print(\"Hasil =\",h)"
   ]
  },
  {
   "cell_type": "code",
   "execution_count": 5,
   "metadata": {},
   "outputs": [
    {
     "name": "stdout",
     "output_type": "stream",
     "text": [
      "Cəm = 165\n"
     ]
    }
   ],
   "source": [
    "# İki ədəd arasındakı ədədlərin cəmini tapır.      06.12.2023  22:11\n",
    "a=int(input())\n",
    "b=int(input()) \n",
    "s=0\n",
    "for i in range(min(a,b),max(a,b)+1):\n",
    "    s+=i\n",
    "print(\"Cəm =\",s)\n",
    "    "
   ]
  }
 ],
 "metadata": {
  "kernelspec": {
   "display_name": "Python 3",
   "language": "python",
   "name": "python3"
  },
  "language_info": {
   "codemirror_mode": {
    "name": "ipython",
    "version": 3
   },
   "file_extension": ".py",
   "mimetype": "text/x-python",
   "name": "python",
   "nbconvert_exporter": "python",
   "pygments_lexer": "ipython3",
   "version": "3.10.0"
  }
 },
 "nbformat": 4,
 "nbformat_minor": 2
}
